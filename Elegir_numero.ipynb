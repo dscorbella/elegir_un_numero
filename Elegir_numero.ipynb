{
 "cells": [
  {
   "cell_type": "code",
   "execution_count": 39,
   "id": "e6f56c8a",
   "metadata": {
    "ExecuteTime": {
     "end_time": "2023-07-05T09:06:48.928643Z",
     "start_time": "2023-07-05T09:06:26.162802Z"
    }
   },
   "outputs": [
    {
     "name": "stdout",
     "output_type": "stream",
     "text": [
      "\n",
      "Piensa un número e intenta no olvidarte, si hace falta apuntalo en una hoja.\n",
      "\n",
      "Ahora dame una pista: ¿entre que rango de números tengo que buscar?\n",
      "Escribe los dos números separados por un espacio: 1 1\n",
      "\n",
      "¿Prefieres que lo acierto al azar y mediante un algoritmo?\n",
      "Tecla '1'- Azar\n",
      "Tecla '2'- Algoritmo\n",
      "+\n",
      "Vamos a empezar de nuevo a ver si esta vez te aclaras\n",
      "\n",
      "Ahora dame una pista: ¿entre que rango de números tengo que buscar?\n",
      "Escribe los dos números separados por un espacio: 1 1\n",
      "\n",
      "¿Prefieres que lo acierto al azar y mediante un algoritmo?\n",
      "Tecla '1'- Azar\n",
      "Tecla '2'- Algoritmo\n",
      "1\n",
      "\n",
      "Todo me hace pensar que se trata del número: 1\n",
      "Tecla '+' si es mayor\n",
      "Tecla '-' si es menor\n",
      "o Tecla '0' si he acertado\n",
      "+\n",
      "\n",
      "Pero que tramposo eres, se me han quitado las ganas de jugar contigo.\n"
     ]
    }
   ],
   "source": [
    "import random\n",
    "\n",
    "print(\"\\nPiensa un número e intenta no olvidarte, si hace falta apuntalo en una hoja.\")\n",
    "\n",
    "def adivinar_numero():\n",
    "    while True:\n",
    "        rango = input(\"\\nAhora dame una pista: ¿entre que rango de números tengo que buscar?\\nEscribe los dos números separados por un espacio: \")\n",
    "        min_max = rango.split()\n",
    "        minimo = int(min_max[0])\n",
    "        maximo = int(min_max[1])\n",
    "        \n",
    "        if minimo > maximo: minimo, maximo = maximo, minimo\n",
    "        modo = input(\"\\n¿Prefieres que lo acierto al azar y mediante un algoritmo?\\nTecla '1'- Azar\\nTecla '2'- Algoritmo\\n\")\n",
    "        \n",
    "        intentos = 1\n",
    "        acertado = False\n",
    "        \n",
    "        while minimo <= maximo and acertado == False:\n",
    "            if modo == \"1\": numero = random.randint(minimo, maximo)\n",
    "            elif modo == \"2\": numero = int((minimo + maximo)//2)\n",
    "            else: \n",
    "                print(\"Vamos a empezar de nuevo a ver si esta vez te aclaras\")\n",
    "                break\n",
    "        \n",
    "            print(\"\\nTodo me hace pensar que se trata del número:\", numero)\n",
    "            respuesta = input(\"Tecla '+' si es mayor\\nTecla '-' si es menor\\no Tecla '0' si he acertado\\n\")\n",
    "            if respuesta == \"+\": minimo = numero + 1\n",
    "            elif  respuesta == \"-\": maximo = numero - 1\n",
    "            elif respuesta == \"0\":\n",
    "                if intentos == 1: print(\"\\nSoy un máquina la he acertado a la primera.\")\n",
    "                if intentos > 1: print(\"\\nFantástico. Solo he necesitado\", intentos, \"intentos.\")\n",
    "                acertado = True\n",
    "                break\n",
    "            else: \n",
    "                print(\"No he ententido tu respuesta, repitamoslo\")\n",
    "                intentos -= 1\n",
    "            intentos += 1\n",
    "\n",
    "        if minimo > maximo and acertado == False:\n",
    "            print(\"\\nPero que tramposo eres, se me han quitado las ganas de jugar contigo.\")\n",
    "            break\n",
    "        elif intentos == 1 and acertado == True: break\n",
    "        elif intentos >1 and acertado == True:\n",
    "            opcion = input(\"Me ha encantado este juego. Te apetece jugar de nuevo? Estoy seguro que puedo hacerlo mejor.\\nTecla 'y' para repetir\\ncualquier otra tecla para salir\\n\")\n",
    "            if opcion != \"y\": break\n",
    "            \n",
    "            \n",
    "adivinar_numero()"
   ]
  },
  {
   "cell_type": "markdown",
   "id": "c8f1cf5f",
   "metadata": {},
   "source": [
    "##### "
   ]
  }
 ],
 "metadata": {
  "hide_input": false,
  "kernelspec": {
   "display_name": "Python 3 (ipykernel)",
   "language": "python",
   "name": "python3"
  },
  "language_info": {
   "codemirror_mode": {
    "name": "ipython",
    "version": 3
   },
   "file_extension": ".py",
   "mimetype": "text/x-python",
   "name": "python",
   "nbconvert_exporter": "python",
   "pygments_lexer": "ipython3",
   "version": "3.9.16"
  },
  "nbTranslate": {
   "displayLangs": [
    "*"
   ],
   "hotkey": "alt-t",
   "langInMainMenu": true,
   "sourceLang": "en",
   "targetLang": "fr",
   "useGoogleTranslate": true
  },
  "toc": {
   "base_numbering": 1,
   "nav_menu": {},
   "number_sections": true,
   "sideBar": true,
   "skip_h1_title": false,
   "title_cell": "Table of Contents",
   "title_sidebar": "Contents",
   "toc_cell": false,
   "toc_position": {},
   "toc_section_display": true,
   "toc_window_display": false
  },
  "varInspector": {
   "cols": {
    "lenName": 16,
    "lenType": 16,
    "lenVar": 40
   },
   "kernels_config": {
    "python": {
     "delete_cmd_postfix": "",
     "delete_cmd_prefix": "del ",
     "library": "var_list.py",
     "varRefreshCmd": "print(var_dic_list())"
    },
    "r": {
     "delete_cmd_postfix": ") ",
     "delete_cmd_prefix": "rm(",
     "library": "var_list.r",
     "varRefreshCmd": "cat(var_dic_list()) "
    }
   },
   "types_to_exclude": [
    "module",
    "function",
    "builtin_function_or_method",
    "instance",
    "_Feature"
   ],
   "window_display": false
  }
 },
 "nbformat": 4,
 "nbformat_minor": 5
}
